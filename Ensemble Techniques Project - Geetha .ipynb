{
 "cells": [
  {
   "cell_type": "markdown",
   "metadata": {},
   "source": [
    "## Ensemble Techniques Project"
   ]
  },
  {
   "cell_type": "markdown",
   "metadata": {},
   "source": [
    "## Part A - 30 Marks"
   ]
  },
  {
   "cell_type": "markdown",
   "metadata": {},
   "source": [
    "**Part 1**"
   ]
  },
  {
   "cell_type": "code",
   "execution_count": 53,
   "metadata": {},
   "outputs": [
    {
     "data": {
      "text/plain": [
       "'C:\\\\Users\\\\Geeth'"
      ]
     },
     "execution_count": 53,
     "metadata": {},
     "output_type": "execute_result"
    }
   ],
   "source": [
    "pwd()"
   ]
  },
  {
   "cell_type": "code",
   "execution_count": 11,
   "metadata": {},
   "outputs": [],
   "source": [
    "# Importing liberies \n",
    "import pandas as pd\n",
    "import numpy as np\n",
    "import matplotlib.pyplot as plt\n",
    "import seaborn as sns\n",
    "%matplotlib inline"
   ]
  },
  {
   "cell_type": "markdown",
   "metadata": {},
   "source": [
    "**Part 1- 1 a. Read ‘TelcomCustomer-Churn_1.csv’ as a DataFrame and assign it to a variable**"
   ]
  },
  {
   "cell_type": "code",
   "execution_count": 12,
   "metadata": {
    "scrolled": true
   },
   "outputs": [],
   "source": [
    "df1=pd.read_csv('TelcomCustomer-Churn_1.csv')"
   ]
  },
  {
   "cell_type": "markdown",
   "metadata": {},
   "source": [
    "**Part 1- 1 b.Read ‘TelcomCustomer-Churn_2.csv’ as a DataFrame and assign it to a variable**"
   ]
  },
  {
   "cell_type": "code",
   "execution_count": 13,
   "metadata": {},
   "outputs": [],
   "source": [
    "df2=pd.read_csv('TelcomCustomer-Churn_2.csv')"
   ]
  },
  {
   "cell_type": "markdown",
   "metadata": {},
   "source": [
    "**Part 1- 1 c.Merge both the DataFrames on key ‘customerID’ to form a single DataFrame**"
   ]
  },
  {
   "cell_type": "code",
   "execution_count": 14,
   "metadata": {},
   "outputs": [],
   "source": [
    "df3 = pd.merge(df1, df2, how='outer', on = 'customerID')"
   ]
  },
  {
   "cell_type": "markdown",
   "metadata": {},
   "source": [
    "**Part 1- 1 d.Verify if all the columns are incorporated in the merged DataFrame by using simple comparisonOperator in Python**"
   ]
  },
  {
   "cell_type": "code",
   "execution_count": 15,
   "metadata": {},
   "outputs": [
    {
     "name": "stdout",
     "output_type": "stream",
     "text": [
      "Number of Columns in df1:  10\n",
      "----------------------------------------------\n",
      "Number of Columns in df2:  12\n",
      "----------------------------------------------\n",
      "Number of Columns in df3:  21\n",
      "----------------------------------------------\n",
      "\n",
      " Columns in df1=\n",
      "{'Partner', 'Dependents', 'SeniorCitizen', 'MultipleLines', 'gender', 'PhoneService', 'InternetService', 'OnlineSecurity', 'tenure'}\n",
      "\n",
      "Number of Columns in df1= 9\n",
      "\n",
      "All rows are incorporated from the both Datasets\n"
     ]
    }
   ],
   "source": [
    "print ('Number of Columns in df1: ' , len(df1.columns))\n",
    "print ('----------------------------------------------')\n",
    "\n",
    "print ('Number of Columns in df2: ' , len(df2.columns))\n",
    "print ('----------------------------------------------')\n",
    "\n",
    "print ('Number of Columns in df3: ' , len(df3.columns))\n",
    "print ('----------------------------------------------')\n",
    "\n",
    "\n",
    "print('\\n Columns in df1=')\n",
    "\n",
    "x=set(df3.columns) - set(df2.columns)\n",
    "\n",
    "print(x)\n",
    "print(\"\\nNumber of Columns in df1=\", len(x))\n",
    "print('\\nAll rows are incorporated from the both Datasets')"
   ]
  },
  {
   "cell_type": "markdown",
   "metadata": {},
   "source": [
    "**Part 1- 2 a Impute missing/unexpected values in the DataFrame**"
   ]
  },
  {
   "cell_type": "code",
   "execution_count": 16,
   "metadata": {},
   "outputs": [
    {
     "name": "stdout",
     "output_type": "stream",
     "text": [
      "Null Values in the Dataset are:\n",
      "-------------------------------\n",
      "customerID          0\n",
      "gender              0\n",
      "SeniorCitizen       0\n",
      "Partner             0\n",
      "Dependents          0\n",
      "tenure              0\n",
      "PhoneService        0\n",
      "MultipleLines       0\n",
      "InternetService     0\n",
      "OnlineSecurity      0\n",
      "OnlineBackup        0\n",
      "DeviceProtection    0\n",
      "TechSupport         0\n",
      "StreamingTV         0\n",
      "StreamingMovies     0\n",
      "Contract            0\n",
      "PaperlessBilling    0\n",
      "PaymentMethod       0\n",
      "MonthlyCharges      0\n",
      "TotalCharges        0\n",
      "Churn               0\n",
      "dtype: int64\n"
     ]
    }
   ],
   "source": [
    "#null values from the Datasets, and Impute missing/unexpected values in the DataFrame\n",
    "\n",
    "print('Null Values in the Dataset are:')\n",
    "print('-------------------------------')\n",
    "print(df3.isnull().sum())"
   ]
  },
  {
   "cell_type": "code",
   "execution_count": 17,
   "metadata": {},
   "outputs": [
    {
     "name": "stdout",
     "output_type": "stream",
     "text": [
      "Male      3555\n",
      "Female    3488\n",
      "Name: gender, dtype: int64\n",
      "---------------------------------------------------\n",
      "0    5901\n",
      "1    1142\n",
      "Name: SeniorCitizen, dtype: int64\n",
      "---------------------------------------------------\n",
      "No     3641\n",
      "Yes    3402\n",
      "Name: Partner, dtype: int64\n",
      "---------------------------------------------------\n",
      "No     4933\n",
      "Yes    2110\n",
      "Name: Dependents, dtype: int64\n",
      "---------------------------------------------------\n",
      "1     613\n",
      "72    362\n",
      "2     238\n",
      "3     200\n",
      "4     176\n",
      "     ... \n",
      "28     57\n",
      "39     56\n",
      "44     51\n",
      "36     50\n",
      "0      11\n",
      "Name: tenure, Length: 73, dtype: int64\n",
      "---------------------------------------------------\n",
      "Yes    6361\n",
      "No      682\n",
      "Name: PhoneService, dtype: int64\n",
      "---------------------------------------------------\n",
      "No                  3390\n",
      "Yes                 2971\n",
      "No phone service     682\n",
      "Name: MultipleLines, dtype: int64\n",
      "---------------------------------------------------\n",
      "Fiber optic    3096\n",
      "DSL            2421\n",
      "No             1526\n",
      "Name: InternetService, dtype: int64\n",
      "---------------------------------------------------\n",
      "No                     3498\n",
      "Yes                    2019\n",
      "No internet service    1526\n",
      "Name: OnlineSecurity, dtype: int64\n",
      "---------------------------------------------------\n",
      "No                     3088\n",
      "Yes                    2429\n",
      "No internet service    1526\n",
      "Name: OnlineBackup, dtype: int64\n",
      "---------------------------------------------------\n",
      "No                     3095\n",
      "Yes                    2422\n",
      "No internet service    1526\n",
      "Name: DeviceProtection, dtype: int64\n",
      "---------------------------------------------------\n",
      "No                     3473\n",
      "Yes                    2044\n",
      "No internet service    1526\n",
      "Name: TechSupport, dtype: int64\n",
      "---------------------------------------------------\n",
      "No                     2810\n",
      "Yes                    2707\n",
      "No internet service    1526\n",
      "Name: StreamingTV, dtype: int64\n",
      "---------------------------------------------------\n",
      "No                     2785\n",
      "Yes                    2732\n",
      "No internet service    1526\n",
      "Name: StreamingMovies, dtype: int64\n",
      "---------------------------------------------------\n",
      "Month-to-month    3875\n",
      "Two year          1695\n",
      "One year          1473\n",
      "Name: Contract, dtype: int64\n",
      "---------------------------------------------------\n",
      "Yes    4171\n",
      "No     2872\n",
      "Name: PaperlessBilling, dtype: int64\n",
      "---------------------------------------------------\n",
      "Electronic check             2365\n",
      "Mailed check                 1612\n",
      "Bank transfer (automatic)    1544\n",
      "Credit card (automatic)      1522\n",
      "Name: PaymentMethod, dtype: int64\n",
      "---------------------------------------------------\n",
      "20.05     61\n",
      "19.85     45\n",
      "19.95     44\n",
      "19.90     44\n",
      "20.00     43\n",
      "          ..\n",
      "114.75     1\n",
      "103.60     1\n",
      "113.40     1\n",
      "57.65      1\n",
      "113.30     1\n",
      "Name: MonthlyCharges, Length: 1585, dtype: int64\n",
      "---------------------------------------------------\n",
      "           11\n",
      "20.2       11\n",
      "19.75       9\n",
      "19.9        8\n",
      "19.65       8\n",
      "           ..\n",
      "6241.35     1\n",
      "1738.9      1\n",
      "1434.1      1\n",
      "1174.8      1\n",
      "3686.05     1\n",
      "Name: TotalCharges, Length: 6531, dtype: int64\n",
      "---------------------------------------------------\n",
      "No     5174\n",
      "Yes    1869\n",
      "Name: Churn, dtype: int64\n",
      "---------------------------------------------------\n"
     ]
    }
   ],
   "source": [
    "#No null values found\n",
    "\n",
    "for i in df3.columns[1:]:\n",
    "    print(df3[i].value_counts())\n",
    "    print(\"---------------------------------------------------\")"
   ]
  },
  {
   "cell_type": "code",
   "execution_count": 31,
   "metadata": {},
   "outputs": [],
   "source": [
    "#unexpected values found in Total Charges column - 11 Spaces\n",
    "#no unexpected values found in other columns"
   ]
  },
  {
   "cell_type": "code",
   "execution_count": 18,
   "metadata": {
    "scrolled": true
   },
   "outputs": [
    {
     "data": {
      "text/plain": [
       "customerID           0\n",
       "gender               0\n",
       "SeniorCitizen        0\n",
       "Partner              0\n",
       "Dependents           0\n",
       "tenure               0\n",
       "PhoneService         0\n",
       "MultipleLines        0\n",
       "InternetService      0\n",
       "OnlineSecurity       0\n",
       "OnlineBackup         0\n",
       "DeviceProtection     0\n",
       "TechSupport          0\n",
       "StreamingTV          0\n",
       "StreamingMovies      0\n",
       "Contract             0\n",
       "PaperlessBilling     0\n",
       "PaymentMethod        0\n",
       "MonthlyCharges       0\n",
       "TotalCharges        11\n",
       "Churn                0\n",
       "dtype: int64"
      ]
     },
     "execution_count": 18,
     "metadata": {},
     "output_type": "execute_result"
    }
   ],
   "source": [
    "#Replacing the spaces with Null values and then dropping them\n",
    "\n",
    "df3=df3.replace(' ', np.nan)\n",
    "\n",
    "df3.isnull().sum()"
   ]
  },
  {
   "cell_type": "code",
   "execution_count": 19,
   "metadata": {},
   "outputs": [
    {
     "data": {
      "text/plain": [
       "customerID          0\n",
       "gender              0\n",
       "SeniorCitizen       0\n",
       "Partner             0\n",
       "Dependents          0\n",
       "tenure              0\n",
       "PhoneService        0\n",
       "MultipleLines       0\n",
       "InternetService     0\n",
       "OnlineSecurity      0\n",
       "OnlineBackup        0\n",
       "DeviceProtection    0\n",
       "TechSupport         0\n",
       "StreamingTV         0\n",
       "StreamingMovies     0\n",
       "Contract            0\n",
       "PaperlessBilling    0\n",
       "PaymentMethod       0\n",
       "MonthlyCharges      0\n",
       "TotalCharges        0\n",
       "Churn               0\n",
       "dtype: int64"
      ]
     },
     "execution_count": 19,
     "metadata": {},
     "output_type": "execute_result"
    }
   ],
   "source": [
    "df3.dropna(inplace=True)\n",
    "df3.isnull().sum()"
   ]
  },
  {
   "cell_type": "code",
   "execution_count": 20,
   "metadata": {
    "scrolled": true
   },
   "outputs": [
    {
     "data": {
      "text/plain": [
       "(7032, 21)"
      ]
     },
     "execution_count": 20,
     "metadata": {},
     "output_type": "execute_result"
    }
   ],
   "source": [
    "df3.shape"
   ]
  },
  {
   "cell_type": "markdown",
   "metadata": {},
   "source": [
    "#Unexcepted values are removed."
   ]
  },
  {
   "cell_type": "markdown",
   "metadata": {},
   "source": [
    "**part 1- 2 b Make sure all the variables with continuous values are of ‘Float’ type**"
   ]
  },
  {
   "cell_type": "code",
   "execution_count": 21,
   "metadata": {},
   "outputs": [
    {
     "data": {
      "text/plain": [
       "customerID           object\n",
       "gender               object\n",
       "SeniorCitizen         int64\n",
       "Partner              object\n",
       "Dependents           object\n",
       "tenure                int64\n",
       "PhoneService         object\n",
       "MultipleLines        object\n",
       "InternetService      object\n",
       "OnlineSecurity       object\n",
       "OnlineBackup         object\n",
       "DeviceProtection     object\n",
       "TechSupport          object\n",
       "StreamingTV          object\n",
       "StreamingMovies      object\n",
       "Contract             object\n",
       "PaperlessBilling     object\n",
       "PaymentMethod        object\n",
       "MonthlyCharges      float64\n",
       "TotalCharges         object\n",
       "Churn                object\n",
       "dtype: object"
      ]
     },
     "execution_count": 21,
     "metadata": {},
     "output_type": "execute_result"
    }
   ],
   "source": [
    "df3.dtypes"
   ]
  },
  {
   "cell_type": "code",
   "execution_count": 22,
   "metadata": {},
   "outputs": [],
   "source": [
    "#converting TotalCharges to float value.\n",
    "\n",
    "df3['TotalCharges']  = df3['TotalCharges'].astype('float64')"
   ]
  },
  {
   "cell_type": "code",
   "execution_count": 23,
   "metadata": {},
   "outputs": [
    {
     "data": {
      "text/plain": [
       "dtype('float64')"
      ]
     },
     "execution_count": 23,
     "metadata": {},
     "output_type": "execute_result"
    }
   ],
   "source": [
    "df3['TotalCharges'].dtypes"
   ]
  },
  {
   "cell_type": "markdown",
   "metadata": {},
   "source": [
    "**Part 1- 2 c Create a function that will accept a DataFrame as input and return pie-charts for all theappropriate Categorical features. Clearly show percentage distribution in the pie-cha**"
   ]
  },
  {
   "cell_type": "code",
   "execution_count": 24,
   "metadata": {},
   "outputs": [],
   "source": [
    "# show percentage distribution in the pie-chart.\n",
    "\n",
    "def pie_chart(dataset):\n",
    "    for i in dataset.columns[1:]:\n",
    "        if dataset[i].dtypes == 'object':\n",
    "            plt.subplots(figsize=(3,3))\n",
    "            dataset[i].value_counts().plot(kind='pie',autopct='%1.2f%%');"
   ]
  },
  {
   "cell_type": "code",
   "execution_count": 98,
   "metadata": {
    "scrolled": false
   },
   "outputs": [
    {
     "data": {
      "image/png": "[encoded data removed]",
      "text/plain": [
       "<Figure size 216x216 with 1 Axes>"
      ]
     },
     "metadata": {},
     "output_type": "display_data"
    },
    {
     "data": {
      "image/png": "[encoded data removed]",
      "text/plain": [
       "<Figure size 216x216 with 1 Axes>"
      ]
     },
     "metadata": {},
     "output_type": "display_data"
    },
    {
     "data": {
      "image/png": "[encoded data removed]",
      "text/plain": [
       "<Figure size 216x216 with 1 Axes>"
      ]
     },
     "metadata": {},
     "output_type": "display_data"
    },
    {
     "data": {
      "image/png": "[encoded data removed]",
      "text/plain": [
       "<Figure size 216x216 with 1 Axes>"
      ]
     },
     "metadata": {},
     "output_type": "display_data"
    },
    {
     "data": {
      "image/png": "[encoded data removed]",
      "text/plain": [
       "<Figure size 216x216 with 1 Axes>"
      ]
     },
     "metadata": {},
     "output_type": "display_data"
    },
    {
     "data": {
      "image/png": "[encoded data removed]",
      "text/plain": [
       "<Figure size 216x216 with 1 Axes>"
      ]
     },
     "metadata": {},
     "output_type": "display_data"
    },
    {
     "data": {
      "image/png": "[encoded data removed]",
      "text/plain": [
       "<Figure size 216x216 with 1 Axes>"
      ]
     },
     "metadata": {},
     "output_type": "display_data"
    },
    {
     "data": {
      "image/png": "[encoded data removed]",
      "text/plain": [
       "<Figure size 216x216 with 1 Axes>"
      ]
     },
     "metadata": {},
     "output_type": "display_data"
    },
    {
     "data": {
      "image/png": "[encoded data removed]",
      "text/plain": [
       "<Figure size 216x216 with 1 Axes>"
      ]
     },
     "metadata": {},
     "output_type": "display_data"
    },
    {
     "data": {
      "image/png": "[encoded data removed]",
      "text/plain": [
       "<Figure size 216x216 with 1 Axes>"
      ]
     },
     "metadata": {},
     "output_type": "display_data"
    },
    {
     "data": {
      "image/png": "[encoded data removed]",
      "text/plain": [
       "<Figure size 216x216 with 1 Axes>"
      ]
     },
     "metadata": {},
     "output_type": "display_data"
    },
    {
     "data": {
      "image/png": "[encoded data removed]",
      "text/plain": [
       "<Figure size 216x216 with 1 Axes>"
      ]
     },
     "metadata": {},
     "output_type": "display_data"
    },
    {
     "data": {
      "image/png": "[encoded data removed]",
      "text/plain": [
       "<Figure size 216x216 with 1 Axes>"
      ]
     },
     "metadata": {},
     "output_type": "display_data"
    },
    {
     "data": {
      "image/png": "[encoded data removed]",
      "text/plain": [
       "<Figure size 216x216 with 1 Axes>"
      ]
     },
     "metadata": {},
     "output_type": "display_data"
    },
    {
     "data": {
      "image/png": "[encoded data removed]",
      "text/plain": [
       "<Figure size 216x216 with 1 Axes>"
      ]
     },
     "metadata": {},
     "output_type": "display_data"
    },
    {
     "data": {
      "image/png": "[encoded data removed]",
      "text/plain": [
       "<Figure size 216x216 with 1 Axes>"
      ]
     },
     "metadata": {},
     "output_type": "display_data"
    }
   ],
   "source": [
    "pie_chart(df3)"
   ]
  },
  {
   "cell_type": "markdown",
   "metadata": {},
   "source": [
    "**Part 1- 2 d.Share insights for Q2.c**"
   ]
  },
  {
   "cell_type": "code",
   "execution_count": 80,
   "metadata": {},
   "outputs": [],
   "source": [
    "#Very few customers churned.\n",
    "#Most of the people have taken phone services.\n",
    "# Most of the people having Monthly Subscribtion.\n",
    "# Majority of the people paying bill through paperlessbilling\n"
   ]
  },
  {
   "cell_type": "markdown",
   "metadata": {},
   "source": [
    "**Part 1 - 2 e.Encode all the appropriate Categorical features with the best suitable approach**"
   ]
  },
  {
   "cell_type": "code",
   "execution_count": 25,
   "metadata": {},
   "outputs": [
    {
     "data": {
      "text/html": [
       "<div>\n",
       "<style scoped>\n",
       "    .dataframe tbody tr th:only-of-type {\n",
       "        vertical-align: middle;\n",
       "    }\n",
       "\n",
       "    .dataframe tbody tr th {\n",
       "        vertical-align: top;\n",
       "    }\n",
       "\n",
       "    .dataframe thead th {\n",
       "        text-align: right;\n",
       "    }\n",
       "</style>\n",
       "<table border=\"1\" class=\"dataframe\">\n",
       "  <thead>\n",
       "    <tr style=\"text-align: right;\">\n",
       "      <th></th>\n",
       "      <th>customerID</th>\n",
       "      <th>SeniorCitizen</th>\n",
       "      <th>Partner</th>\n",
       "      <th>Dependents</th>\n",
       "      <th>tenure</th>\n",
       "      <th>PhoneService</th>\n",
       "      <th>MultipleLines</th>\n",
       "      <th>InternetService</th>\n",
       "      <th>OnlineSecurity</th>\n",
       "      <th>OnlineBackup</th>\n",
       "      <th>...</th>\n",
       "      <th>Churn</th>\n",
       "      <th>gender_Female</th>\n",
       "      <th>gender_Male</th>\n",
       "      <th>Contract_Month-to-month</th>\n",
       "      <th>Contract_One year</th>\n",
       "      <th>Contract_Two year</th>\n",
       "      <th>PaymentMethod_Bank transfer (automatic)</th>\n",
       "      <th>PaymentMethod_Credit card (automatic)</th>\n",
       "      <th>PaymentMethod_Electronic check</th>\n",
       "      <th>PaymentMethod_Mailed check</th>\n",
       "    </tr>\n",
       "  </thead>\n",
       "  <tbody>\n",
       "    <tr>\n",
       "      <th>0</th>\n",
       "      <td>7590-VHVEG</td>\n",
       "      <td>0</td>\n",
       "      <td>1</td>\n",
       "      <td>0</td>\n",
       "      <td>1</td>\n",
       "      <td>0</td>\n",
       "      <td>0</td>\n",
       "      <td>0</td>\n",
       "      <td>0</td>\n",
       "      <td>1</td>\n",
       "      <td>...</td>\n",
       "      <td>0</td>\n",
       "      <td>1</td>\n",
       "      <td>0</td>\n",
       "      <td>1</td>\n",
       "      <td>0</td>\n",
       "      <td>0</td>\n",
       "      <td>0</td>\n",
       "      <td>0</td>\n",
       "      <td>1</td>\n",
       "      <td>0</td>\n",
       "    </tr>\n",
       "    <tr>\n",
       "      <th>1</th>\n",
       "      <td>5575-GNVDE</td>\n",
       "      <td>0</td>\n",
       "      <td>0</td>\n",
       "      <td>0</td>\n",
       "      <td>34</td>\n",
       "      <td>1</td>\n",
       "      <td>0</td>\n",
       "      <td>0</td>\n",
       "      <td>1</td>\n",
       "      <td>0</td>\n",
       "      <td>...</td>\n",
       "      <td>0</td>\n",
       "      <td>0</td>\n",
       "      <td>1</td>\n",
       "      <td>0</td>\n",
       "      <td>1</td>\n",
       "      <td>0</td>\n",
       "      <td>0</td>\n",
       "      <td>0</td>\n",
       "      <td>0</td>\n",
       "      <td>1</td>\n",
       "    </tr>\n",
       "    <tr>\n",
       "      <th>2</th>\n",
       "      <td>3668-QPYBK</td>\n",
       "      <td>0</td>\n",
       "      <td>0</td>\n",
       "      <td>0</td>\n",
       "      <td>2</td>\n",
       "      <td>1</td>\n",
       "      <td>0</td>\n",
       "      <td>0</td>\n",
       "      <td>1</td>\n",
       "      <td>1</td>\n",
       "      <td>...</td>\n",
       "      <td>1</td>\n",
       "      <td>0</td>\n",
       "      <td>1</td>\n",
       "      <td>1</td>\n",
       "      <td>0</td>\n",
       "      <td>0</td>\n",
       "      <td>0</td>\n",
       "      <td>0</td>\n",
       "      <td>0</td>\n",
       "      <td>1</td>\n",
       "    </tr>\n",
       "    <tr>\n",
       "      <th>3</th>\n",
       "      <td>7795-CFOCW</td>\n",
       "      <td>0</td>\n",
       "      <td>0</td>\n",
       "      <td>0</td>\n",
       "      <td>45</td>\n",
       "      <td>0</td>\n",
       "      <td>0</td>\n",
       "      <td>0</td>\n",
       "      <td>1</td>\n",
       "      <td>0</td>\n",
       "      <td>...</td>\n",
       "      <td>0</td>\n",
       "      <td>0</td>\n",
       "      <td>1</td>\n",
       "      <td>0</td>\n",
       "      <td>1</td>\n",
       "      <td>0</td>\n",
       "      <td>1</td>\n",
       "      <td>0</td>\n",
       "      <td>0</td>\n",
       "      <td>0</td>\n",
       "    </tr>\n",
       "    <tr>\n",
       "      <th>4</th>\n",
       "      <td>9237-HQITU</td>\n",
       "      <td>0</td>\n",
       "      <td>0</td>\n",
       "      <td>0</td>\n",
       "      <td>2</td>\n",
       "      <td>1</td>\n",
       "      <td>0</td>\n",
       "      <td>1</td>\n",
       "      <td>0</td>\n",
       "      <td>0</td>\n",
       "      <td>...</td>\n",
       "      <td>1</td>\n",
       "      <td>1</td>\n",
       "      <td>0</td>\n",
       "      <td>1</td>\n",
       "      <td>0</td>\n",
       "      <td>0</td>\n",
       "      <td>0</td>\n",
       "      <td>0</td>\n",
       "      <td>1</td>\n",
       "      <td>0</td>\n",
       "    </tr>\n",
       "  </tbody>\n",
       "</table>\n",
       "<p>5 rows × 27 columns</p>\n",
       "</div>"
      ],
      "text/plain": [
       "   customerID  SeniorCitizen  Partner  Dependents  tenure  PhoneService  \\\n",
       "0  7590-VHVEG              0        1           0       1             0   \n",
       "1  5575-GNVDE              0        0           0      34             1   \n",
       "2  3668-QPYBK              0        0           0       2             1   \n",
       "3  7795-CFOCW              0        0           0      45             0   \n",
       "4  9237-HQITU              0        0           0       2             1   \n",
       "\n",
       "   MultipleLines  InternetService  OnlineSecurity  OnlineBackup  ...  Churn  \\\n",
       "0              0                0               0             1  ...      0   \n",
       "1              0                0               1             0  ...      0   \n",
       "2              0                0               1             1  ...      1   \n",
       "3              0                0               1             0  ...      0   \n",
       "4              0                1               0             0  ...      1   \n",
       "\n",
       "   gender_Female  gender_Male  Contract_Month-to-month  Contract_One year  \\\n",
       "0              1            0                        1                  0   \n",
       "1              0            1                        0                  1   \n",
       "2              0            1                        1                  0   \n",
       "3              0            1                        0                  1   \n",
       "4              1            0                        1                  0   \n",
       "\n",
       "   Contract_Two year  PaymentMethod_Bank transfer (automatic)  \\\n",
       "0                  0                                        0   \n",
       "1                  0                                        0   \n",
       "2                  0                                        0   \n",
       "3                  0                                        1   \n",
       "4                  0                                        0   \n",
       "\n",
       "   PaymentMethod_Credit card (automatic)  PaymentMethod_Electronic check  \\\n",
       "0                                      0                               1   \n",
       "1                                      0                               0   \n",
       "2                                      0                               0   \n",
       "3                                      0                               0   \n",
       "4                                      0                               1   \n",
       "\n",
       "   PaymentMethod_Mailed check  \n",
       "0                           0  \n",
       "1                           1  \n",
       "2                           1  \n",
       "3                           0  \n",
       "4                           0  \n",
       "\n",
       "[5 rows x 27 columns]"
      ]
     },
     "execution_count": 25,
     "metadata": {},
     "output_type": "execute_result"
    }
   ],
   "source": [
    "Dict1 = {\"Partner\"         : {\"Yes\": 1, \"No\": 0},\n",
    "         \"Dependents\"      : {\"Yes\": 1, \"No\": 0},\n",
    "         \"PhoneService\"    : {\"Yes\": 1, \"No\": 0},\n",
    "         \"MultipleLines\"   : {\"Yes\": 1, \"No\": 0,    \"No phone service\": 0},\n",
    "         \"InternetService\" : {\"Fiber optic\" : 1,    \"DSL\": 0,     \"No\": 0},\n",
    "         \"OnlineSecurity\"  : {\"Yes\": 1, \"No\": 0, \"No internet service\": 0},\n",
    "         \"OnlineBackup\"    : {\"Yes\": 1, \"No\": 0, \"No internet service\": 0},\n",
    "         \"DeviceProtection\": {\"Yes\": 1, \"No\": 0, \"No internet service\": 0},\n",
    "         \"TechSupport\"     : {\"Yes\": 1, \"No\": 0, \"No internet service\": 0},\n",
    "         \"StreamingTV\"     : {\"Yes\": 1, \"No\": 0, \"No internet service\": 0},\n",
    "         \"StreamingMovies\" : {\"Yes\": 1, \"No\": 0, \"No internet service\": 0},\n",
    "         \"PaperlessBilling\": {\"Yes\": 1, \"No\": 0},\n",
    "         \"Churn\"           : {\"Yes\": 1, \"No\": 0}}\n",
    "\n",
    "List1 =['gender', 'Contract', 'PaymentMethod']\n",
    "\n",
    "\n",
    "df3 = df3.replace(Dict1)\n",
    "df3 = pd.get_dummies(df3, columns=List1)\n",
    "\n",
    "df3.head(5)"
   ]
  },
  {
   "cell_type": "code",
   "execution_count": 26,
   "metadata": {},
   "outputs": [
    {
     "data": {
      "text/plain": [
       "(7032, 25)"
      ]
     },
     "execution_count": 26,
     "metadata": {},
     "output_type": "execute_result"
    }
   ],
   "source": [
    "#Dropping CustID column\n",
    "\n",
    "X = df3.drop(['customerID','Churn'], axis=1)\n",
    "y = df3['Churn']\n",
    "\n",
    "X.shape"
   ]
  },
  {
   "cell_type": "markdown",
   "metadata": {},
   "source": [
    "**Part 1- 2 f.Split the data into 80% train and 20% test.**"
   ]
  },
  {
   "cell_type": "code",
   "execution_count": 27,
   "metadata": {},
   "outputs": [],
   "source": [
    "from sklearn.model_selection import train_test_split\n",
    "X_train, X_test, y_train, y_test = train_test_split(X, y, test_size=0.20, random_state=1)"
   ]
  },
  {
   "cell_type": "markdown",
   "metadata": {},
   "source": [
    "**Part 1 - 2 g.Normalize/Standardize the data with the best suitable approach**"
   ]
  },
  {
   "cell_type": "code",
   "execution_count": 28,
   "metadata": {},
   "outputs": [
    {
     "name": "stdout",
     "output_type": "stream",
     "text": [
      "MinMaxScaler(copy=True, feature_range=(0, 1))\n",
      "[[0. 0. 0. ... 0. 0. 1.]\n",
      " [0. 0. 1. ... 0. 0. 1.]\n",
      " [0. 1. 1. ... 0. 1. 0.]\n",
      " ...\n",
      " [0. 0. 0. ... 0. 1. 0.]\n",
      " [0. 0. 0. ... 0. 0. 1.]\n",
      " [1. 0. 0. ... 0. 1. 0.]]\n"
     ]
    }
   ],
   "source": [
    "from sklearn.preprocessing import MinMaxScaler\n",
    "\n",
    "scaler = MinMaxScaler().fit(X_train)\n",
    "print(scaler)\n",
    "scaled_train = scaler.transform(X_train)\n",
    "print(scaled_train)"
   ]
  },
  {
   "cell_type": "code",
   "execution_count": 29,
   "metadata": {
    "scrolled": false
   },
   "outputs": [
    {
     "name": "stdout",
     "output_type": "stream",
     "text": [
      "MinMaxScaler(copy=True, feature_range=(0, 1))\n",
      "[[0. 1. 1. ... 1. 0. 0.]\n",
      " [1. 1. 0. ... 1. 0. 0.]\n",
      " [0. 0. 0. ... 0. 0. 0.]\n",
      " ...\n",
      " [0. 1. 1. ... 0. 0. 0.]\n",
      " [0. 1. 1. ... 1. 0. 0.]\n",
      " [0. 1. 0. ... 1. 0. 0.]]\n"
     ]
    }
   ],
   "source": [
    "from sklearn.preprocessing import MinMaxScaler\n",
    "\n",
    "scaler = MinMaxScaler().fit(X_test)\n",
    "print(scaler)\n",
    "scaled_test = scaler.transform(X_test)\n",
    "print(scaled_test)"
   ]
  },
  {
   "cell_type": "markdown",
   "metadata": {},
   "source": [
    "**Part 1 - 3 a. Train a model using XGBoost. Also print best performing parameters along with train and test performance.**"
   ]
  },
  {
   "cell_type": "code",
   "execution_count": null,
   "metadata": {},
   "outputs": [],
   "source": [
    "##importing xgboost\n"
   ]
  },
  {
   "cell_type": "code",
   "execution_count": 30,
   "metadata": {},
   "outputs": [
    {
     "data": {
      "text/plain": [
       "0.9377777777777778"
      ]
     },
     "execution_count": 30,
     "metadata": {},
     "output_type": "execute_result"
    }
   ],
   "source": [
    "import xgboost\n",
    "from xgboost import XGBClassifier\n",
    "\n",
    "#Create the base model.\n",
    "XGB = XGBClassifier()\n",
    "\n",
    "#fitting the model to train dataset.\n",
    "XGB.fit(scaled_train, y_train)\n",
    "\n",
    "#Predict target variable.\n",
    "y_predict = XGB.predict(scaled_test)\n",
    "\n",
    "#check train accuracy.\n",
    "XGB.score(scaled_train, y_train)"
   ]
  },
  {
   "cell_type": "code",
   "execution_count": 31,
   "metadata": {
    "scrolled": true
   },
   "outputs": [
    {
     "data": {
      "text/plain": [
       "0.7810945273631841"
      ]
     },
     "execution_count": 31,
     "metadata": {},
     "output_type": "execute_result"
    }
   ],
   "source": [
    "#check test accuracy\n",
    "XGB.score(scaled_test, y_test)"
   ]
  },
  {
   "cell_type": "code",
   "execution_count": 32,
   "metadata": {
    "scrolled": false
   },
   "outputs": [
    {
     "name": "stdout",
     "output_type": "stream",
     "text": [
      "              precision    recall  f1-score   support\n",
      "\n",
      "           0       0.83      0.88      0.86      1041\n",
      "           1       0.60      0.49      0.54       366\n",
      "\n",
      "    accuracy                           0.78      1407\n",
      "   macro avg       0.71      0.69      0.70      1407\n",
      "weighted avg       0.77      0.78      0.77      1407\n",
      "\n"
     ]
    }
   ],
   "source": [
    "from sklearn import metrics\n",
    "print(metrics.classification_report(y_test, y_predict))"
   ]
  },
  {
   "cell_type": "markdown",
   "metadata": {},
   "source": [
    "**Part 1 - 3 b Improve performance of the XGBoost as much as possible. Also print best performing parameters along with train and test performance.**"
   ]
  },
  {
   "cell_type": "code",
   "execution_count": 33,
   "metadata": {},
   "outputs": [
    {
     "data": {
      "text/plain": [
       "0.8252444444444444"
      ]
     },
     "execution_count": 33,
     "metadata": {},
     "output_type": "execute_result"
    }
   ],
   "source": [
    "from xgboost import XGBClassifier\n",
    "\n",
    "#Create the base model\n",
    "XGB = XGBClassifier(n_estimators=5, max_depth=6, booster = None, max_leaves = 100)\n",
    "\n",
    "#fit the model to train dataset\n",
    "XGB.fit(scaled_train, y_train)\n",
    "\n",
    "#Predict target variable\n",
    "y_predict = XGB.predict(scaled_test)\n",
    "\n",
    "#check train accuracy\n",
    "XGB.score(scaled_train, y_train)"
   ]
  },
  {
   "cell_type": "code",
   "execution_count": 34,
   "metadata": {
    "scrolled": false
   },
   "outputs": [
    {
     "data": {
      "text/plain": [
       "0.7924662402274343"
      ]
     },
     "execution_count": 34,
     "metadata": {},
     "output_type": "execute_result"
    }
   ],
   "source": [
    "#check test accuracy\n",
    "XGB.score(scaled_test, y_test)"
   ]
  },
  {
   "cell_type": "code",
   "execution_count": 35,
   "metadata": {
    "scrolled": true
   },
   "outputs": [
    {
     "data": {
      "text/plain": [
       "0.7924662402274343"
      ]
     },
     "execution_count": 35,
     "metadata": {},
     "output_type": "execute_result"
    }
   ],
   "source": [
    "#check test accuracy\n",
    "XGB.score(scaled_test, y_test)"
   ]
  },
  {
   "cell_type": "code",
   "execution_count": 36,
   "metadata": {},
   "outputs": [
    {
     "name": "stdout",
     "output_type": "stream",
     "text": [
      "              precision    recall  f1-score   support\n",
      "\n",
      "           0       0.83      0.90      0.87      1041\n",
      "           1       0.63      0.48      0.55       366\n",
      "\n",
      "    accuracy                           0.79      1407\n",
      "   macro avg       0.73      0.69      0.71      1407\n",
      "weighted avg       0.78      0.79      0.78      1407\n",
      "\n"
     ]
    }
   ],
   "source": [
    "from sklearn import metrics\n",
    "print(metrics.classification_report(y_test, y_predict))"
   ]
  },
  {
   "cell_type": "code",
   "execution_count": 32,
   "metadata": {},
   "outputs": [],
   "source": [
    "#n_estimators, max_depth contributed the most among all the parameters"
   ]
  },
  {
   "cell_type": "markdown",
   "metadata": {},
   "source": [
    "## Part B - 30 Marks"
   ]
  },
  {
   "cell_type": "markdown",
   "metadata": {},
   "source": [
    "**1. Build a simple ML workflow which will accept a single ‘.csv’ file as input and return a trained base model that can be used for predictions. You can use \n",
    "1 Dataset from Part 1 (single/merged)**"
   ]
  },
  {
   "cell_type": "code",
   "execution_count": 44,
   "metadata": {},
   "outputs": [],
   "source": [
    "#Reading the dataset and EDA\n",
    "\n",
    "def fun1(df1,df2):\n",
    "    global Data\n",
    "    Data=pd.merge(df1,df2,how='outer', on='customerID')\n",
    "    print(\"Data loaded Successfully into Data\")\n",
    "    print(\"---------------------------------\")\n",
    "    print(\"shape of dataset: \", Data.shape)\n",
    "    print(\"Info of dataset: \", Data.info())\n",
    "    print(\"---------------------------------\")\n",
    "    print(\"Null Value details:\")\n",
    "    print(Data.isnull().sum())\n",
    "    print(Data.dropna(inplace=True))\n",
    "    print(\" \")\n",
    "    print(\"Null Values (if exists), have been deleted\")\n",
    "    print(\"---------------------------------\")\n",
    "    print(\"Finding unexpected values in the datset...\")\n",
    "    print(\"No. of unexpected values are: \", len(Data[Data['TotalCharges']==' '])) \n",
    "    Data = Data[Data['TotalCharges']!=' ']\n",
    "    print(\"Unexpected values found in 'TotalCharge Column have been deleted'\")\n",
    "    print(\"Shape after delete: \", Data.shape)\n",
    "    print(\"Changing the TotalCharges Column to float...\")\n",
    "    Data['TotalCharges']  = Data['TotalCharges'].astype('float64')\n",
    "    print(Data.dtypes)\n",
    "    print(\"Encoding.....\")\n",
    "    Dict1 = {\"Partner\"         : {\"Yes\": 1, \"No\": 0},\n",
    "             \"Dependents\"      : {\"Yes\": 1, \"No\": 0},\n",
    "             \"PhoneService\"    : {\"Yes\": 1, \"No\": 0},\n",
    "             \"MultipleLines\"   : {\"Yes\": 1, \"No\": 0,    \"No phone service\": 0},\n",
    "             \"InternetService\" : {\"Fiber optic\" : 1,    \"DSL\": 0,     \"No\": 0},\n",
    "             \"OnlineSecurity\"  : {\"Yes\": 1, \"No\": 0, \"No internet service\": 0},\n",
    "             \"OnlineBackup\"    : {\"Yes\": 1, \"No\": 0, \"No internet service\": 0},\n",
    "             \"DeviceProtection\": {\"Yes\": 1, \"No\": 0, \"No internet service\": 0},\n",
    "             \"TechSupport\"     : {\"Yes\": 1, \"No\": 0, \"No internet service\": 0},\n",
    "             \"StreamingTV\"     : {\"Yes\": 1, \"No\": 0, \"No internet service\": 0},\n",
    "             \"StreamingMovies\" : {\"Yes\": 1, \"No\": 0, \"No internet service\": 0},\n",
    "             \"PaperlessBilling\": {\"Yes\": 1, \"No\": 0},\n",
    "             \"Churn\"           : {\"Yes\": 1, \"No\": 0}}\n",
    "    List1 =['gender', 'Contract', 'PaymentMethod']\n",
    "    Data = Data.replace(Dict1)\n",
    "    Data = pd.get_dummies(Data, columns=List1, drop_first=True)\n",
    "    print(Data.head(3))\n",
    "    print(\"Data has been cleaned Successfully.\")\n",
    "    "
   ]
  },
  {
   "cell_type": "code",
   "execution_count": 49,
   "metadata": {},
   "outputs": [],
   "source": [
    "#Split Data\n",
    "\n",
    "def fun2():\n",
    "    global X,y,X_train, X_test, y_train, y_test\n",
    "    print(\"shape before split :\", Data.shape)\n",
    "    print(\"Data is getting split\")\n",
    "    X=Data.drop(['Churn','customerID'], axis=1)\n",
    "    y=Data['Churn']\n",
    "    print(\"Shape after XY-Split:\", X.shape)\n",
    "    print(\"Test-Train Split:\")\n",
    "    from sklearn.model_selection import train_test_split\n",
    "    X_train, X_test, y_train, y_test = train_test_split(X, y, test_size=0.20, random_state=1)\n",
    "    print(\"Test-Train Split was successful\")\n"
   ]
  },
  {
   "cell_type": "code",
   "execution_count": 50,
   "metadata": {},
   "outputs": [],
   "source": [
    "# Scaling\n",
    "\n",
    "def fun3():\n",
    "    global scaled_train, scaled_test\n",
    "    print(\"Scaling the data.....\")\n",
    "    from sklearn.preprocessing import MinMaxScaler\n",
    "    \n",
    "    #Train Scale\n",
    "    scaler1 = MinMaxScaler().fit(X_train)\n",
    "    print(scaler1)\n",
    "    scaled_train = scaler1.transform(X_train)\n",
    "    print(scaled_train)\n",
    "    \n",
    "    #Test-Scale\n",
    "    scaler2 = MinMaxScaler().fit(X_test)\n",
    "    print(scaler2)\n",
    "    scaled_test = scaler2.transform(X_test)\n",
    "    print(scaled_test)\n",
    "    print(\"Scaling was done succesfully.\")"
   ]
  },
  {
   "cell_type": "code",
   "execution_count": 46,
   "metadata": {},
   "outputs": [],
   "source": [
    "#Model Build\n",
    "\n",
    "\n",
    "def fun4():\n",
    "    \n",
    "    #Model-1\n",
    "    global test_scores, XGB, NNH, LR\n",
    "    from xgboost import XGBClassifier\n",
    "\n",
    "    #Create the base model\n",
    "    XGB = XGBClassifier()\n",
    "\n",
    "    #fit the model to train dataset\n",
    "    XGB.fit(scaled_train, y_train)\n",
    "\n",
    "    #check train,test accuracy\n",
    "    XGB_Tr = XGB.score(scaled_train, y_train)\n",
    "    XGB_Ts = XGB.score(scaled_test, y_test)\n",
    "    \n",
    "    print(\" \")\n",
    "    print(\"Model-1: XGB\")\n",
    "    print(\"Train Accuracy of XGB: \", XGB_Tr)\n",
    "    print(\"Test  Accuracy of XGB: \", XGB_Ts)\n",
    "    #+++++++++++++++++++++++++++++++++++++++++++\n",
    "    \n",
    "    #Model-2:\n",
    "    from sklearn.neighbors import KNeighborsClassifier\n",
    "\n",
    "    #Create the base model\n",
    "    NNH = KNeighborsClassifier()\n",
    "\n",
    "    #fit the model to train dataset\n",
    "    NNH.fit(scaled_train, y_train)\n",
    "\n",
    "    #check train,test accuracy\n",
    "    NNH_Tr = NNH.score(scaled_train, y_train)\n",
    "    NNH_Ts = NNH.score(scaled_test, y_test)\n",
    "    \n",
    "    print(\"Model-2: KNN\")\n",
    "    print(\"Train Accuracy of KNN: \", NNH_Tr)\n",
    "    print(\"Test  Accuracy of KNN: \", NNH_Ts)\n",
    "    #++++++++++++++++++++++++++++++++++++++++++++++\n",
    "    \n",
    "    #Model-3:\n",
    "    from sklearn.linear_model import LogisticRegression\n",
    "\n",
    "    #Create the base model\n",
    "    LR = LogisticRegression()\n",
    "\n",
    "    #fit the model to train dataset\n",
    "    LR.fit(scaled_train, y_train)\n",
    "\n",
    "    #check train,test accuracy\n",
    "    LR_Tr = LR.score(scaled_train, y_train)\n",
    "    LR_Ts = LR.score(scaled_test, y_test)\n",
    "    \n",
    "    print(\"Model-3: LOG-R\")\n",
    "    print(\"Train Accuracy of LOG-R: \", LR_Tr)\n",
    "    print(\"Test  Accuracy of LOG-R: \", LR_Ts)\n",
    "    #++++++++++++++++++++++++++++++++++++++++++++++\n",
    "    \n",
    "    test_scores = [XGB_Ts, NNH_Ts, LR_Ts]\n",
    "    \n",
    "    print(\"Model building is completed\")"
   ]
  },
  {
   "cell_type": "code",
   "execution_count": 51,
   "metadata": {},
   "outputs": [],
   "source": [
    "def fun5():\n",
    "    import pickle\n",
    "    top_score = max(test_scores)\n",
    "    \n",
    "    x=1\n",
    "    for i in test_scores:\n",
    "        if i==top_score:\n",
    "            if  x==1:\n",
    "                print(\"XGB is the best: \", top_score)\n",
    "                pickle.dump(XGB, open('top_model.pkl', 'wb'))\n",
    "            elif x==2:\n",
    "                print(\"KNN is the best: \", top_score)\n",
    "                pickle.dump(NNH, open('top_model.pkl', 'wb'))\n",
    "            elif x==3:\n",
    "                print(\"Log-R is the best: \", top_score)\n",
    "                pickle.dump(LR, open('top_model.pkl', 'wb'))\n",
    "        x=x+1\n",
    "    \n",
    "    print(\"Pickle is successful.\")"
   ]
  },
  {
   "cell_type": "code",
   "execution_count": 47,
   "metadata": {},
   "outputs": [],
   "source": [
    "def Main(x,y):\n",
    "    fun1(x,y)\n",
    "    fun2()\n",
    "    fun3()\n",
    "    fun4()\n",
    "    fun5()"
   ]
  },
  {
   "cell_type": "code",
   "execution_count": 52,
   "metadata": {
    "scrolled": false
   },
   "outputs": [
    {
     "name": "stdout",
     "output_type": "stream",
     "text": [
      "Data loaded Successfully into Data\n",
      "---------------------------------\n",
      "shape of dataset:  (7043, 21)\n",
      "<class 'pandas.core.frame.DataFrame'>\n",
      "Int64Index: 7043 entries, 0 to 7042\n",
      "Data columns (total 21 columns):\n",
      " #   Column            Non-Null Count  Dtype  \n",
      "---  ------            --------------  -----  \n",
      " 0   customerID        7043 non-null   object \n",
      " 1   gender            7043 non-null   object \n",
      " 2   SeniorCitizen     7043 non-null   int64  \n",
      " 3   Partner           7043 non-null   object \n",
      " 4   Dependents        7043 non-null   object \n",
      " 5   tenure            7043 non-null   int64  \n",
      " 6   PhoneService      7043 non-null   object \n",
      " 7   MultipleLines     7043 non-null   object \n",
      " 8   InternetService   7043 non-null   object \n",
      " 9   OnlineSecurity    7043 non-null   object \n",
      " 10  OnlineBackup      7043 non-null   object \n",
      " 11  DeviceProtection  7043 non-null   object \n",
      " 12  TechSupport       7043 non-null   object \n",
      " 13  StreamingTV       7043 non-null   object \n",
      " 14  StreamingMovies   7043 non-null   object \n",
      " 15  Contract          7043 non-null   object \n",
      " 16  PaperlessBilling  7043 non-null   object \n",
      " 17  PaymentMethod     7043 non-null   object \n",
      " 18  MonthlyCharges    7043 non-null   float64\n",
      " 19  TotalCharges      7043 non-null   object \n",
      " 20  Churn             7043 non-null   object \n",
      "dtypes: float64(1), int64(2), object(18)\n",
      "memory usage: 1.2+ MB\n",
      "Info of dataset:  None\n",
      "---------------------------------\n",
      "Null Value details:\n",
      "customerID          0\n",
      "gender              0\n",
      "SeniorCitizen       0\n",
      "Partner             0\n",
      "Dependents          0\n",
      "tenure              0\n",
      "PhoneService        0\n",
      "MultipleLines       0\n",
      "InternetService     0\n",
      "OnlineSecurity      0\n",
      "OnlineBackup        0\n",
      "DeviceProtection    0\n",
      "TechSupport         0\n",
      "StreamingTV         0\n",
      "StreamingMovies     0\n",
      "Contract            0\n",
      "PaperlessBilling    0\n",
      "PaymentMethod       0\n",
      "MonthlyCharges      0\n",
      "TotalCharges        0\n",
      "Churn               0\n",
      "dtype: int64\n",
      "None\n",
      " \n",
      "Null Values (if exists), have been deleted\n",
      "---------------------------------\n",
      "Finding unexpected values in the datset...\n",
      "No. of unexpected values are:  11\n",
      "Unexpected values found in 'TotalCharge Column have been deleted'\n",
      "Shape after delete:  (7032, 21)\n",
      "Changing the TotalCharges Column to float...\n",
      "customerID           object\n",
      "gender               object\n",
      "SeniorCitizen         int64\n",
      "Partner              object\n",
      "Dependents           object\n",
      "tenure                int64\n",
      "PhoneService         object\n",
      "MultipleLines        object\n",
      "InternetService      object\n",
      "OnlineSecurity       object\n",
      "OnlineBackup         object\n",
      "DeviceProtection     object\n",
      "TechSupport          object\n",
      "StreamingTV          object\n",
      "StreamingMovies      object\n",
      "Contract             object\n",
      "PaperlessBilling     object\n",
      "PaymentMethod        object\n",
      "MonthlyCharges      float64\n",
      "TotalCharges        float64\n",
      "Churn                object\n",
      "dtype: object\n",
      "Encoding.....\n",
      "   customerID  SeniorCitizen  Partner  Dependents  tenure  PhoneService  \\\n",
      "0  7590-VHVEG              0        1           0       1             0   \n",
      "1  5575-GNVDE              0        0           0      34             1   \n",
      "2  3668-QPYBK              0        0           0       2             1   \n",
      "\n",
      "   MultipleLines  InternetService  OnlineSecurity  OnlineBackup  ...  \\\n",
      "0              0                0               0             1  ...   \n",
      "1              0                0               1             0  ...   \n",
      "2              0                0               1             1  ...   \n",
      "\n",
      "   PaperlessBilling  MonthlyCharges  TotalCharges  Churn  gender_Male  \\\n",
      "0                 1           29.85         29.85      0            0   \n",
      "1                 0           56.95       1889.50      0            1   \n",
      "2                 1           53.85        108.15      1            1   \n",
      "\n",
      "   Contract_One year  Contract_Two year  \\\n",
      "0                  0                  0   \n",
      "1                  1                  0   \n",
      "2                  0                  0   \n",
      "\n",
      "   PaymentMethod_Credit card (automatic)  PaymentMethod_Electronic check  \\\n",
      "0                                      0                               1   \n",
      "1                                      0                               0   \n",
      "2                                      0                               0   \n",
      "\n",
      "   PaymentMethod_Mailed check  \n",
      "0                           0  \n",
      "1                           1  \n",
      "2                           1  \n",
      "\n",
      "[3 rows x 24 columns]\n",
      "Data has been cleaned Successfully.\n",
      "shape before split : (7032, 24)\n",
      "Data is getting split\n",
      "Shape after XY-Split: (7032, 22)\n",
      "Test-Train Split:\n",
      "Test-Train Split was successful\n",
      "Scaling the data.....\n",
      "MinMaxScaler(copy=True, feature_range=(0, 1))\n",
      "[[0. 0. 0. ... 0. 0. 1.]\n",
      " [0. 0. 1. ... 0. 0. 1.]\n",
      " [0. 1. 1. ... 0. 1. 0.]\n",
      " ...\n",
      " [0. 0. 0. ... 0. 1. 0.]\n",
      " [0. 0. 0. ... 0. 0. 1.]\n",
      " [1. 0. 0. ... 0. 1. 0.]]\n",
      "MinMaxScaler(copy=True, feature_range=(0, 1))\n",
      "[[0. 1. 1. ... 1. 0. 0.]\n",
      " [1. 1. 0. ... 1. 0. 0.]\n",
      " [0. 0. 0. ... 0. 0. 0.]\n",
      " ...\n",
      " [0. 1. 1. ... 0. 0. 0.]\n",
      " [0. 1. 1. ... 1. 0. 0.]\n",
      " [0. 1. 0. ... 1. 0. 0.]]\n",
      "Scaling was done succesfully.\n",
      " \n",
      "Model-1: XGB\n",
      "Train Accuracy of XGB:  0.9349333333333333\n",
      "Test  Accuracy of XGB:  0.7853589196872779\n",
      "Model-2: KNN\n",
      "Train Accuracy of KNN:  0.8405333333333334\n",
      "Test  Accuracy of KNN:  0.7533759772565742\n",
      "Model-3: LOG-R\n",
      "Train Accuracy of LOG-R:  0.8062222222222222\n",
      "Test  Accuracy of LOG-R:  0.7967306325515281\n",
      "Model building is completed\n",
      "Log-R is the best:  0.7967306325515281\n",
      "Pickle is successful.\n"
     ]
    }
   ],
   "source": [
    "# Calling Main Function \n",
    "\n",
    "Main(df1,df2)  "
   ]
  },
  {
   "cell_type": "code",
   "execution_count": null,
   "metadata": {},
   "outputs": [],
   "source": []
  }
 ],
 "metadata": {
  "kernelspec": {
   "display_name": "Python 3",
   "language": "python",
   "name": "python3"
  },
  "language_info": {
   "codemirror_mode": {
    "name": "ipython",
    "version": 3
   },
   "file_extension": ".py",
   "mimetype": "text/x-python",
   "name": "python",
   "nbconvert_exporter": "python",
   "pygments_lexer": "ipython3",
   "version": "3.7.6"
  }
 },
 "nbformat": 4,
 "nbformat_minor": 5
}
